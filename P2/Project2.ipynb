{
 "cells": [
  {
   "cell_type": "markdown",
   "metadata": {},
   "source": [
    "# Udacity Data Analyst Nanodegree\n",
    "# P2: Analysis of the relative age effect in the american baseball\n",
    "\n",
    "Author: Luiz Gerosa\n",
    "\n",
    "Date: Feb 15, 2017"
   ]
  },
  {
   "cell_type": "markdown",
   "metadata": {},
   "source": [
    "## Introduction\n",
    "\n",
    "Within many sports, the youth stages of participation are often organized into annual age-groups using specific cutoff dates. Although the intention of providing a fair play for youngsters with similar age, in some sports can be observed a higher chance of participation in the professional level amongst those born early in the selection period. This phenomenon is known as [Relative Age Effect](https://en.wikipedia.org/wiki/Relative_age_effect) (RAE).\n",
    "\n",
    "The first major study of this effect was published in the Journal of the Canadian Association for Health, Physical Education, and Recreation in 1985 by Barnsley et al. This study determined that NHL players of the early 1980s were more than four times as likely to be born in the first three months of the calendar year as the last three months.\n",
    "\n",
    "Malcolm Gladwell explains this effect in his book [Outliers: The Story of Success](http://gladwell.com/outliers/):\n",
    "\n",
    ">The explanation for this is quite simple. It has nothing to do with astrology, nor is there anything magical about the first three months of the year. It’s simply that in Canada the eligibility cutoff for age-class hockey is January 1. A boy who turns ten on January 2, then, could be playing alongside someone who doesn’t turn ten until the end of the year — and at that age, in preadolescence, a twelvemonth gap in age represents an enormous difference in physical maturity.\n",
    "\n",
    ">This being Canada, the most hockey-crazed country on earth, coaches start to select players for the traveling “rep” squad — the all-star teams — at the age of nine or ten, and of course they are more likely to view as talented the bigger and more coordinated players, who have had the benefit of critical extra months of maturity.\n",
    "\n",
    ">And what happens when a player gets chosen for a rep squad? He gets better coaching, and his teammates are better, and he plays fifty or seventy-five games a season instead of twenty games a season like those left behind in the “house” league, and he practices twice as much as, or even three times more than, he would have otherwise. In the beginning, his advantage isn’t so much that he is inherently better but only that he is a little older. But by the age of thirteen or fourteen, with the benefit of better coaching and all that extra practice under his belt, he really is better, so he’s the one more likely to make it to the Major Junior A league, and from there into the big leagues.\n",
    "\n",
    ">Barnsley argues that these kinds of skewed age distributions exist whenever three things happen: selection, streaming, and differentiated experience. If you make a decision about who is good and who is not good at an early age; if you separate the “talented” from the “untalented”; and if you provide the “talented” with a superior experience, then you’re going to end up giving a huge advantage to that small group of people born closest to the cutoff date.\n",
    "\n",
    "In 1991, Thompson et al. observed a similar effect in the American Baseball. For many years, July 31 was the cutoff date used by virtually all nonschool baseball leagues in the United States. This caused an unfair advantage for players born in August compared to players born in July.\n",
    "\n",
    "The goal of this analysis is to observe if this effect is still relevant nowadays."
   ]
  },
  {
   "cell_type": "markdown",
   "metadata": {},
   "source": [
    "## Questions\n",
    "\n",
    "* How does the month of birth correlate with the participation rate in the professional leagues?\n",
    "* Does the month of birth correlate with the professional player performance, i.e., the unfair advantage of those who have been born earlier in baseball year remains relevant after they became a pro?"
   ]
  },
  {
   "cell_type": "markdown",
   "metadata": {},
   "source": [
    "## Data Wrangle"
   ]
  },
  {
   "cell_type": "code",
   "execution_count": 1,
   "metadata": {
    "collapsed": false
   },
   "outputs": [
    {
     "name": "stdout",
     "output_type": "stream",
     "text": [
      "Populating the interactive namespace from numpy and matplotlib\n"
     ]
    }
   ],
   "source": [
    "# Import Libraries\n",
    "import numpy as np\n",
    "import pandas as pd\n",
    "import matplotlib.pyplot as plt\n",
    "import seaborn as sns\n",
    "\n",
    "%pylab inline"
   ]
  },
  {
   "cell_type": "code",
   "execution_count": 2,
   "metadata": {
    "collapsed": false
   },
   "outputs": [],
   "source": [
    "# Creating auxilary series for month names \n",
    "monthNames = pd.Series(\n",
    "    ['Jan', 'Feb', 'Mar', 'Apr', 'May', 'Jun', 'Jul', 'Aug', 'Sep', 'Oct', 'Nov', 'Dec']\n",
    "    , index=range(1,13))\n",
    "\n",
    "relativeMonthNames = pd.Series(\n",
    "     ['Aug', 'Sep', 'Oct', 'Nov', 'Dec', 'Jan', 'Feb', 'Mar', 'Apr', 'May', 'Jun', 'Jul'])\n",
    "\n",
    "# Auxiliary functions\n",
    "def normalizeValues(s):\n",
    "    '''returns the proportion of each value in relation to the sum of all values.'''\n",
    "    return s / s.sum()\n",
    "    "
   ]
  },
  {
   "cell_type": "markdown",
   "metadata": {
    "collapsed": true
   },
   "source": [
    "### General population data\n",
    "The general population natality birth data comes from the [Center of Disease Control and Prevention](http://www.nber.org/data/vital-statistics-natality-data.html) (CDC). The total number of births per month was collected from 1994 to 2002 and will be used as a proxy for the birth rate per month of the general population."
   ]
  },
  {
   "cell_type": "code",
   "execution_count": 3,
   "metadata": {
    "collapsed": false
   },
   "outputs": [
    {
     "data": {
      "text/html": [
       "<div>\n",
       "<table border=\"1\" class=\"dataframe\">\n",
       "  <thead>\n",
       "    <tr style=\"text-align: right;\">\n",
       "      <th></th>\n",
       "      <th>Year</th>\n",
       "      <th>Month</th>\n",
       "      <th>Births</th>\n",
       "    </tr>\n",
       "  </thead>\n",
       "  <tbody>\n",
       "    <tr>\n",
       "      <th>0</th>\n",
       "      <td>1994</td>\n",
       "      <td>1</td>\n",
       "      <td>320705</td>\n",
       "    </tr>\n",
       "    <tr>\n",
       "      <th>1</th>\n",
       "      <td>1994</td>\n",
       "      <td>2</td>\n",
       "      <td>301327</td>\n",
       "    </tr>\n",
       "    <tr>\n",
       "      <th>2</th>\n",
       "      <td>1994</td>\n",
       "      <td>3</td>\n",
       "      <td>339736</td>\n",
       "    </tr>\n",
       "    <tr>\n",
       "      <th>3</th>\n",
       "      <td>1994</td>\n",
       "      <td>4</td>\n",
       "      <td>317392</td>\n",
       "    </tr>\n",
       "    <tr>\n",
       "      <th>4</th>\n",
       "      <td>1994</td>\n",
       "      <td>5</td>\n",
       "      <td>330295</td>\n",
       "    </tr>\n",
       "  </tbody>\n",
       "</table>\n",
       "</div>"
      ],
      "text/plain": [
       "   Year  Month  Births\n",
       "0  1994      1  320705\n",
       "1  1994      2  301327\n",
       "2  1994      3  339736\n",
       "3  1994      4  317392\n",
       "4  1994      5  330295"
      ]
     },
     "execution_count": 3,
     "metadata": {},
     "output_type": "execute_result"
    }
   ],
   "source": [
    "generalBirths = pd.read_csv('datasets/us_births_by_month.csv')\n",
    "generalBirths.head()"
   ]
  },
  {
   "cell_type": "markdown",
   "metadata": {},
   "source": [
    "The chart below shows the mean number of births for each month of the year of the general population. As could be observed, there is a slight increase of births over the summer (July to September) and a decrease in February."
   ]
  },
  {
   "cell_type": "code",
   "execution_count": 4,
   "metadata": {
    "collapsed": false
   },
   "outputs": [
    {
     "data": {
      "text/plain": [
       "<matplotlib.text.Text at 0x11a6f7ac8>"
      ]
     },
     "execution_count": 4,
     "metadata": {},
     "output_type": "execute_result"
    },
    {
     "data": {
      "image/png": "[encoded data removed]",
      "text/plain": [
       "<matplotlib.figure.Figure at 0x10e14cf60>"
      ]
     },
     "metadata": {},
     "output_type": "display_data"
    }
   ],
   "source": [
    "generalBirthsByMonth = generalBirths.groupby('Month').mean()['Births'] / 1000\n",
    "\n",
    "# plot a line with the mean births per year\n",
    "meanBirths = generalBirthsByMonth.sum() / len(generalBirthsByMonth)\n",
    "plt.axhline(meanBirths, color='red', zorder=1)\n",
    "\n",
    "# plot the distribution of births per months\n",
    "generalBirthsByMonth.plot(kind='bar', zorder=2)\n",
    "plt.xticks(range(13), monthNames, rotation=0)\n",
    "plt.ylabel('Mean number of births (thousand)')\n",
    "plt.title('U.S. month of birth distribution of the general population from 1994 to 2002')"
   ]
  },
  {
   "cell_type": "markdown",
   "metadata": {},
   "source": [
    "### Baseball players data\n",
    "The data for this analysis comes from the 2015 edition of [The Lahman Baseball Database](http://www.seanlahman.com/baseball-archive/statistics/) that contains complete batting and pitching statistics from 1871 to 2015, plus fielding statistics, standings, team stats, managerial records, post-season data, and more. \n",
    "\n",
    "The following tables will be used in this analysis:\n",
    "* Master: the master table contains player names, DOB, and biographical info\n",
    "* Batting: batting statistics\n"
   ]
  },
  {
   "cell_type": "code",
   "execution_count": 5,
   "metadata": {
    "collapsed": false
   },
   "outputs": [
    {
     "name": "stdout",
     "output_type": "stream",
     "text": [
      "Index(['playerID', 'birthYear', 'birthMonth', 'birthDay', 'birthCountry',\n",
      "       'birthState', 'birthCity', 'deathYear', 'deathMonth', 'deathDay',\n",
      "       'deathCountry', 'deathState', 'deathCity', 'nameFirst', 'nameLast',\n",
      "       'nameGiven', 'weight', 'height', 'bats', 'throws', 'debut', 'finalGame',\n",
      "       'retroID', 'bbrefID'],\n",
      "      dtype='object')\n"
     ]
    },
    {
     "data": {
      "text/html": [
       "<div>\n",
       "<table border=\"1\" class=\"dataframe\">\n",
       "  <thead>\n",
       "    <tr style=\"text-align: right;\">\n",
       "      <th></th>\n",
       "      <th>playerID</th>\n",
       "      <th>birthYear</th>\n",
       "      <th>birthMonth</th>\n",
       "      <th>birthDay</th>\n",
       "      <th>birthCountry</th>\n",
       "      <th>birthState</th>\n",
       "      <th>birthCity</th>\n",
       "      <th>deathYear</th>\n",
       "      <th>deathMonth</th>\n",
       "      <th>deathDay</th>\n",
       "      <th>...</th>\n",
       "      <th>nameLast</th>\n",
       "      <th>nameGiven</th>\n",
       "      <th>weight</th>\n",
       "      <th>height</th>\n",
       "      <th>bats</th>\n",
       "      <th>throws</th>\n",
       "      <th>debut</th>\n",
       "      <th>finalGame</th>\n",
       "      <th>retroID</th>\n",
       "      <th>bbrefID</th>\n",
       "    </tr>\n",
       "  </thead>\n",
       "  <tbody>\n",
       "    <tr>\n",
       "      <th>0</th>\n",
       "      <td>aardsda01</td>\n",
       "      <td>1981.0</td>\n",
       "      <td>12.0</td>\n",
       "      <td>27.0</td>\n",
       "      <td>USA</td>\n",
       "      <td>CO</td>\n",
       "      <td>Denver</td>\n",
       "      <td>NaN</td>\n",
       "      <td>NaN</td>\n",
       "      <td>NaN</td>\n",
       "      <td>...</td>\n",
       "      <td>Aardsma</td>\n",
       "      <td>David Allan</td>\n",
       "      <td>220.0</td>\n",
       "      <td>75.0</td>\n",
       "      <td>R</td>\n",
       "      <td>R</td>\n",
       "      <td>2004-04-06</td>\n",
       "      <td>2015-08-23</td>\n",
       "      <td>aardd001</td>\n",
       "      <td>aardsda01</td>\n",
       "    </tr>\n",
       "    <tr>\n",
       "      <th>1</th>\n",
       "      <td>aaronha01</td>\n",
       "      <td>1934.0</td>\n",
       "      <td>2.0</td>\n",
       "      <td>5.0</td>\n",
       "      <td>USA</td>\n",
       "      <td>AL</td>\n",
       "      <td>Mobile</td>\n",
       "      <td>NaN</td>\n",
       "      <td>NaN</td>\n",
       "      <td>NaN</td>\n",
       "      <td>...</td>\n",
       "      <td>Aaron</td>\n",
       "      <td>Henry Louis</td>\n",
       "      <td>180.0</td>\n",
       "      <td>72.0</td>\n",
       "      <td>R</td>\n",
       "      <td>R</td>\n",
       "      <td>1954-04-13</td>\n",
       "      <td>1976-10-03</td>\n",
       "      <td>aaroh101</td>\n",
       "      <td>aaronha01</td>\n",
       "    </tr>\n",
       "    <tr>\n",
       "      <th>2</th>\n",
       "      <td>aaronto01</td>\n",
       "      <td>1939.0</td>\n",
       "      <td>8.0</td>\n",
       "      <td>5.0</td>\n",
       "      <td>USA</td>\n",
       "      <td>AL</td>\n",
       "      <td>Mobile</td>\n",
       "      <td>1984.0</td>\n",
       "      <td>8.0</td>\n",
       "      <td>16.0</td>\n",
       "      <td>...</td>\n",
       "      <td>Aaron</td>\n",
       "      <td>Tommie Lee</td>\n",
       "      <td>190.0</td>\n",
       "      <td>75.0</td>\n",
       "      <td>R</td>\n",
       "      <td>R</td>\n",
       "      <td>1962-04-10</td>\n",
       "      <td>1971-09-26</td>\n",
       "      <td>aarot101</td>\n",
       "      <td>aaronto01</td>\n",
       "    </tr>\n",
       "    <tr>\n",
       "      <th>3</th>\n",
       "      <td>aasedo01</td>\n",
       "      <td>1954.0</td>\n",
       "      <td>9.0</td>\n",
       "      <td>8.0</td>\n",
       "      <td>USA</td>\n",
       "      <td>CA</td>\n",
       "      <td>Orange</td>\n",
       "      <td>NaN</td>\n",
       "      <td>NaN</td>\n",
       "      <td>NaN</td>\n",
       "      <td>...</td>\n",
       "      <td>Aase</td>\n",
       "      <td>Donald William</td>\n",
       "      <td>190.0</td>\n",
       "      <td>75.0</td>\n",
       "      <td>R</td>\n",
       "      <td>R</td>\n",
       "      <td>1977-07-26</td>\n",
       "      <td>1990-10-03</td>\n",
       "      <td>aased001</td>\n",
       "      <td>aasedo01</td>\n",
       "    </tr>\n",
       "    <tr>\n",
       "      <th>4</th>\n",
       "      <td>abadan01</td>\n",
       "      <td>1972.0</td>\n",
       "      <td>8.0</td>\n",
       "      <td>25.0</td>\n",
       "      <td>USA</td>\n",
       "      <td>FL</td>\n",
       "      <td>Palm Beach</td>\n",
       "      <td>NaN</td>\n",
       "      <td>NaN</td>\n",
       "      <td>NaN</td>\n",
       "      <td>...</td>\n",
       "      <td>Abad</td>\n",
       "      <td>Fausto Andres</td>\n",
       "      <td>184.0</td>\n",
       "      <td>73.0</td>\n",
       "      <td>L</td>\n",
       "      <td>L</td>\n",
       "      <td>2001-09-10</td>\n",
       "      <td>2006-04-13</td>\n",
       "      <td>abada001</td>\n",
       "      <td>abadan01</td>\n",
       "    </tr>\n",
       "  </tbody>\n",
       "</table>\n",
       "<p>5 rows × 24 columns</p>\n",
       "</div>"
      ],
      "text/plain": [
       "    playerID  birthYear  birthMonth  birthDay birthCountry birthState  \\\n",
       "0  aardsda01     1981.0        12.0      27.0          USA         CO   \n",
       "1  aaronha01     1934.0         2.0       5.0          USA         AL   \n",
       "2  aaronto01     1939.0         8.0       5.0          USA         AL   \n",
       "3   aasedo01     1954.0         9.0       8.0          USA         CA   \n",
       "4   abadan01     1972.0         8.0      25.0          USA         FL   \n",
       "\n",
       "    birthCity  deathYear  deathMonth  deathDay    ...     nameLast  \\\n",
       "0      Denver        NaN         NaN       NaN    ...      Aardsma   \n",
       "1      Mobile        NaN         NaN       NaN    ...        Aaron   \n",
       "2      Mobile     1984.0         8.0      16.0    ...        Aaron   \n",
       "3      Orange        NaN         NaN       NaN    ...         Aase   \n",
       "4  Palm Beach        NaN         NaN       NaN    ...         Abad   \n",
       "\n",
       "        nameGiven weight height bats throws       debut   finalGame   retroID  \\\n",
       "0     David Allan  220.0   75.0    R      R  2004-04-06  2015-08-23  aardd001   \n",
       "1     Henry Louis  180.0   72.0    R      R  1954-04-13  1976-10-03  aaroh101   \n",
       "2      Tommie Lee  190.0   75.0    R      R  1962-04-10  1971-09-26  aarot101   \n",
       "3  Donald William  190.0   75.0    R      R  1977-07-26  1990-10-03  aased001   \n",
       "4   Fausto Andres  184.0   73.0    L      L  2001-09-10  2006-04-13  abada001   \n",
       "\n",
       "     bbrefID  \n",
       "0  aardsda01  \n",
       "1  aaronha01  \n",
       "2  aaronto01  \n",
       "3   aasedo01  \n",
       "4   abadan01  \n",
       "\n",
       "[5 rows x 24 columns]"
      ]
     },
     "execution_count": 5,
     "metadata": {},
     "output_type": "execute_result"
    }
   ],
   "source": [
    "master = pd.read_csv('datasets/core/Master.csv')\n",
    "print(master.columns)\n",
    "master.head()"
   ]
  },
  {
   "cell_type": "code",
   "execution_count": 6,
   "metadata": {
    "collapsed": false
   },
   "outputs": [
    {
     "data": {
      "text/html": [
       "<div>\n",
       "<table border=\"1\" class=\"dataframe\">\n",
       "  <thead>\n",
       "    <tr style=\"text-align: right;\">\n",
       "      <th></th>\n",
       "      <th>playerID</th>\n",
       "      <th>yearID</th>\n",
       "      <th>stint</th>\n",
       "      <th>teamID</th>\n",
       "      <th>lgID</th>\n",
       "      <th>G</th>\n",
       "      <th>AB</th>\n",
       "      <th>R</th>\n",
       "      <th>H</th>\n",
       "      <th>2B</th>\n",
       "      <th>...</th>\n",
       "      <th>RBI</th>\n",
       "      <th>SB</th>\n",
       "      <th>CS</th>\n",
       "      <th>BB</th>\n",
       "      <th>SO</th>\n",
       "      <th>IBB</th>\n",
       "      <th>HBP</th>\n",
       "      <th>SH</th>\n",
       "      <th>SF</th>\n",
       "      <th>GIDP</th>\n",
       "    </tr>\n",
       "  </thead>\n",
       "  <tbody>\n",
       "    <tr>\n",
       "      <th>0</th>\n",
       "      <td>abercda01</td>\n",
       "      <td>1871</td>\n",
       "      <td>1</td>\n",
       "      <td>TRO</td>\n",
       "      <td>0</td>\n",
       "      <td>1</td>\n",
       "      <td>4.0</td>\n",
       "      <td>0.0</td>\n",
       "      <td>0.0</td>\n",
       "      <td>0.0</td>\n",
       "      <td>...</td>\n",
       "      <td>0.0</td>\n",
       "      <td>0.0</td>\n",
       "      <td>0.0</td>\n",
       "      <td>0.0</td>\n",
       "      <td>0.0</td>\n",
       "      <td>0.0</td>\n",
       "      <td>0.0</td>\n",
       "      <td>0.0</td>\n",
       "      <td>0.0</td>\n",
       "      <td>0.0</td>\n",
       "    </tr>\n",
       "    <tr>\n",
       "      <th>1</th>\n",
       "      <td>addybo01</td>\n",
       "      <td>1871</td>\n",
       "      <td>1</td>\n",
       "      <td>RC1</td>\n",
       "      <td>0</td>\n",
       "      <td>25</td>\n",
       "      <td>118.0</td>\n",
       "      <td>30.0</td>\n",
       "      <td>32.0</td>\n",
       "      <td>6.0</td>\n",
       "      <td>...</td>\n",
       "      <td>13.0</td>\n",
       "      <td>8.0</td>\n",
       "      <td>1.0</td>\n",
       "      <td>4.0</td>\n",
       "      <td>0.0</td>\n",
       "      <td>0.0</td>\n",
       "      <td>0.0</td>\n",
       "      <td>0.0</td>\n",
       "      <td>0.0</td>\n",
       "      <td>0.0</td>\n",
       "    </tr>\n",
       "    <tr>\n",
       "      <th>2</th>\n",
       "      <td>allisar01</td>\n",
       "      <td>1871</td>\n",
       "      <td>1</td>\n",
       "      <td>CL1</td>\n",
       "      <td>0</td>\n",
       "      <td>29</td>\n",
       "      <td>137.0</td>\n",
       "      <td>28.0</td>\n",
       "      <td>40.0</td>\n",
       "      <td>4.0</td>\n",
       "      <td>...</td>\n",
       "      <td>19.0</td>\n",
       "      <td>3.0</td>\n",
       "      <td>1.0</td>\n",
       "      <td>2.0</td>\n",
       "      <td>5.0</td>\n",
       "      <td>0.0</td>\n",
       "      <td>0.0</td>\n",
       "      <td>0.0</td>\n",
       "      <td>0.0</td>\n",
       "      <td>0.0</td>\n",
       "    </tr>\n",
       "    <tr>\n",
       "      <th>3</th>\n",
       "      <td>allisdo01</td>\n",
       "      <td>1871</td>\n",
       "      <td>1</td>\n",
       "      <td>WS3</td>\n",
       "      <td>0</td>\n",
       "      <td>27</td>\n",
       "      <td>133.0</td>\n",
       "      <td>28.0</td>\n",
       "      <td>44.0</td>\n",
       "      <td>10.0</td>\n",
       "      <td>...</td>\n",
       "      <td>27.0</td>\n",
       "      <td>1.0</td>\n",
       "      <td>1.0</td>\n",
       "      <td>0.0</td>\n",
       "      <td>2.0</td>\n",
       "      <td>0.0</td>\n",
       "      <td>0.0</td>\n",
       "      <td>0.0</td>\n",
       "      <td>0.0</td>\n",
       "      <td>0.0</td>\n",
       "    </tr>\n",
       "    <tr>\n",
       "      <th>4</th>\n",
       "      <td>ansonca01</td>\n",
       "      <td>1871</td>\n",
       "      <td>1</td>\n",
       "      <td>RC1</td>\n",
       "      <td>0</td>\n",
       "      <td>25</td>\n",
       "      <td>120.0</td>\n",
       "      <td>29.0</td>\n",
       "      <td>39.0</td>\n",
       "      <td>11.0</td>\n",
       "      <td>...</td>\n",
       "      <td>16.0</td>\n",
       "      <td>6.0</td>\n",
       "      <td>2.0</td>\n",
       "      <td>2.0</td>\n",
       "      <td>1.0</td>\n",
       "      <td>0.0</td>\n",
       "      <td>0.0</td>\n",
       "      <td>0.0</td>\n",
       "      <td>0.0</td>\n",
       "      <td>0.0</td>\n",
       "    </tr>\n",
       "  </tbody>\n",
       "</table>\n",
       "<p>5 rows × 22 columns</p>\n",
       "</div>"
      ],
      "text/plain": [
       "    playerID  yearID  stint teamID lgID   G     AB     R     H    2B  ...   \\\n",
       "0  abercda01    1871      1    TRO    0   1    4.0   0.0   0.0   0.0  ...    \n",
       "1   addybo01    1871      1    RC1    0  25  118.0  30.0  32.0   6.0  ...    \n",
       "2  allisar01    1871      1    CL1    0  29  137.0  28.0  40.0   4.0  ...    \n",
       "3  allisdo01    1871      1    WS3    0  27  133.0  28.0  44.0  10.0  ...    \n",
       "4  ansonca01    1871      1    RC1    0  25  120.0  29.0  39.0  11.0  ...    \n",
       "\n",
       "    RBI   SB   CS   BB   SO  IBB  HBP   SH   SF  GIDP  \n",
       "0   0.0  0.0  0.0  0.0  0.0  0.0  0.0  0.0  0.0   0.0  \n",
       "1  13.0  8.0  1.0  4.0  0.0  0.0  0.0  0.0  0.0   0.0  \n",
       "2  19.0  3.0  1.0  2.0  5.0  0.0  0.0  0.0  0.0   0.0  \n",
       "3  27.0  1.0  1.0  0.0  2.0  0.0  0.0  0.0  0.0   0.0  \n",
       "4  16.0  6.0  2.0  2.0  1.0  0.0  0.0  0.0  0.0   0.0  \n",
       "\n",
       "[5 rows x 22 columns]"
      ]
     },
     "execution_count": 6,
     "metadata": {},
     "output_type": "execute_result"
    }
   ],
   "source": [
    "batting = batting = pd.read_csv('datasets/core/Batting.csv')\n",
    "\n",
    "# replace NaN with 0 so the batting stats can be used to calculate performance measures\n",
    "batting = batting.fillna(value=0)\n",
    "batting.head()"
   ]
  },
  {
   "cell_type": "markdown",
   "metadata": {},
   "source": [
    "## Baseball players relative age effect\n",
    "The chart below shows the month of birth distribution of baseball players in the database."
   ]
  },
  {
   "cell_type": "code",
   "execution_count": 7,
   "metadata": {
    "collapsed": false
   },
   "outputs": [
    {
     "name": "stdout",
     "output_type": "stream",
     "text": [
      "Players born in May, June or July: 4254\n",
      "Players born in August, Septermber or October: 5184\n",
      "Increase: 21.86%\n"
     ]
    },
    {
     "data": {
      "image/png": "[encoded data removed]",
      "text/plain": [
       "<matplotlib.figure.Figure at 0x11dc9d240>"
      ]
     },
     "metadata": {},
     "output_type": "display_data"
    }
   ],
   "source": [
    "playerBirthsByMonth = master['birthMonth'].value_counts().sort_index()\n",
    "minYear = master['birthYear'].min()\n",
    "maxYear = master['birthYear'].max()\n",
    "total = playerBirthsByMonth.sum()\n",
    "\n",
    "# plot a line indicating birth in a uniformly distribution\n",
    "meanBirths = total / 12\n",
    "plt.axhline(meanBirths, color='red', zorder=1)\n",
    "\n",
    "# plot the distribution of births per months\n",
    "playerBirthsByMonth.plot(kind='bar', zorder=2)\n",
    "plt.xticks(range(13), monthNames, rotation=0)\n",
    "plt.ylabel('Births')\n",
    "plt.title('Month of birth distribution of {} american baseball players from {:4.0f} to {:4.0f}'.format(total, minYear, maxYear))\n",
    "\n",
    "birthsBefore = playerBirthsByMonth.loc[5:7].sum()\n",
    "birthsAfter = playerBirthsByMonth.loc[8:10].sum()\n",
    "print('Players born in May, June or July: {}'.format(birthsBefore))\n",
    "print('Players born in August, Septermber or October: {}'.format(birthsAfter))\n",
    "print('Increase: {:4.2f}%'.format((birthsAfter - birthsBefore) / birthsBefore * 100))\n"
   ]
  },
  {
   "cell_type": "markdown",
   "metadata": {},
   "source": [
    "This chart shows a tendency for professional baseball players to have been born early in the baseball year (starting in August and ending in July). For instance, there are 21.86% more players that have been born in August, September, and October than have been born in May, June, and July.\n",
    "\n",
    "Although the chart is important to observe this tendency, it's necessary measuring it. In order to measure the impact of the RAE in baseball players, the following steps were executed:\n",
    "1. Calculate the relative month for the baseball players and for the general population. The relative month measures how many months after August (the first month of the baseball year) the month of birth is.\n",
    "2. Calculate the birth rate for each relative month for the general population and for the baseball players.\n",
    "3. Calculate the deviations between the baseball players and the general population birth rates.\n",
    "4. Calculate the correlation coefficient between the deviations of birth rates and the relative months."
   ]
  },
  {
   "cell_type": "markdown",
   "metadata": {},
   "source": [
    "### 1. Relative month"
   ]
  },
  {
   "cell_type": "code",
   "execution_count": 8,
   "metadata": {
    "collapsed": false
   },
   "outputs": [
    {
     "data": {
      "text/html": [
       "<div>\n",
       "<table border=\"1\" class=\"dataframe\">\n",
       "  <thead>\n",
       "    <tr style=\"text-align: right;\">\n",
       "      <th></th>\n",
       "      <th>Year</th>\n",
       "      <th>Month</th>\n",
       "      <th>Births</th>\n",
       "      <th>relativeMonth</th>\n",
       "    </tr>\n",
       "  </thead>\n",
       "  <tbody>\n",
       "    <tr>\n",
       "      <th>0</th>\n",
       "      <td>1994</td>\n",
       "      <td>1</td>\n",
       "      <td>320705</td>\n",
       "      <td>5</td>\n",
       "    </tr>\n",
       "    <tr>\n",
       "      <th>1</th>\n",
       "      <td>1994</td>\n",
       "      <td>2</td>\n",
       "      <td>301327</td>\n",
       "      <td>6</td>\n",
       "    </tr>\n",
       "    <tr>\n",
       "      <th>2</th>\n",
       "      <td>1994</td>\n",
       "      <td>3</td>\n",
       "      <td>339736</td>\n",
       "      <td>7</td>\n",
       "    </tr>\n",
       "    <tr>\n",
       "      <th>3</th>\n",
       "      <td>1994</td>\n",
       "      <td>4</td>\n",
       "      <td>317392</td>\n",
       "      <td>8</td>\n",
       "    </tr>\n",
       "    <tr>\n",
       "      <th>4</th>\n",
       "      <td>1994</td>\n",
       "      <td>5</td>\n",
       "      <td>330295</td>\n",
       "      <td>9</td>\n",
       "    </tr>\n",
       "    <tr>\n",
       "      <th>5</th>\n",
       "      <td>1994</td>\n",
       "      <td>6</td>\n",
       "      <td>329737</td>\n",
       "      <td>10</td>\n",
       "    </tr>\n",
       "    <tr>\n",
       "      <th>6</th>\n",
       "      <td>1994</td>\n",
       "      <td>7</td>\n",
       "      <td>345862</td>\n",
       "      <td>11</td>\n",
       "    </tr>\n",
       "    <tr>\n",
       "      <th>7</th>\n",
       "      <td>1994</td>\n",
       "      <td>8</td>\n",
       "      <td>352173</td>\n",
       "      <td>0</td>\n",
       "    </tr>\n",
       "    <tr>\n",
       "      <th>8</th>\n",
       "      <td>1994</td>\n",
       "      <td>9</td>\n",
       "      <td>339223</td>\n",
       "      <td>1</td>\n",
       "    </tr>\n",
       "    <tr>\n",
       "      <th>9</th>\n",
       "      <td>1994</td>\n",
       "      <td>10</td>\n",
       "      <td>330172</td>\n",
       "      <td>2</td>\n",
       "    </tr>\n",
       "    <tr>\n",
       "      <th>10</th>\n",
       "      <td>1994</td>\n",
       "      <td>11</td>\n",
       "      <td>319397</td>\n",
       "      <td>3</td>\n",
       "    </tr>\n",
       "    <tr>\n",
       "      <th>11</th>\n",
       "      <td>1994</td>\n",
       "      <td>12</td>\n",
       "      <td>326748</td>\n",
       "      <td>4</td>\n",
       "    </tr>\n",
       "  </tbody>\n",
       "</table>\n",
       "</div>"
      ],
      "text/plain": [
       "    Year  Month  Births  relativeMonth\n",
       "0   1994      1  320705              5\n",
       "1   1994      2  301327              6\n",
       "2   1994      3  339736              7\n",
       "3   1994      4  317392              8\n",
       "4   1994      5  330295              9\n",
       "5   1994      6  329737             10\n",
       "6   1994      7  345862             11\n",
       "7   1994      8  352173              0\n",
       "8   1994      9  339223              1\n",
       "9   1994     10  330172              2\n",
       "10  1994     11  319397              3\n",
       "11  1994     12  326748              4"
      ]
     },
     "execution_count": 8,
     "metadata": {},
     "output_type": "execute_result"
    }
   ],
   "source": [
    "# The relative month is calculated rotating left the month of birth by 8.\n",
    "\n",
    "# master dataframe\n",
    "master = master.assign(relativeMonth = (master.birthMonth - 8) % 12)\n",
    "\n",
    "# general population dataframe\n",
    "generalBirths = generalBirths.assign(relativeMonth = (generalBirths.Month - 8) % 12)\n",
    "generalBirths.head(n = 12)"
   ]
  },
  {
   "cell_type": "markdown",
   "metadata": {},
   "source": [
    "### 2. Birth rate per relative month"
   ]
  },
  {
   "cell_type": "code",
   "execution_count": 9,
   "metadata": {
    "collapsed": false
   },
   "outputs": [],
   "source": [
    "generalMeanBirthsByRelativeMonth = generalBirths.groupby('relativeMonth').mean()['Births']\n",
    "generalBirthRatesByRelativeMonth = normalizeValues(generalMeanBirthsByRelativeMonth)\n",
    "\n",
    "playersBirthRatesByRelativeMonth = master['relativeMonth'].value_counts(normalize=True).sort_index()"
   ]
  },
  {
   "cell_type": "markdown",
   "metadata": {},
   "source": [
    "In the chart below could be observed that the birth rates of baseball players are higher in the first months of the baseball year and lower in the last months."
   ]
  },
  {
   "cell_type": "code",
   "execution_count": 10,
   "metadata": {
    "collapsed": false
   },
   "outputs": [
    {
     "data": {
      "text/plain": [
       "([<matplotlib.axis.XTick at 0x11a948ac8>,\n",
       "  <matplotlib.axis.XTick at 0x11dcabe10>,\n",
       "  <matplotlib.axis.XTick at 0x11accd400>,\n",
       "  <matplotlib.axis.XTick at 0x11acd6a58>,\n",
       "  <matplotlib.axis.XTick at 0x11acd62e8>,\n",
       "  <matplotlib.axis.XTick at 0x11acdbd30>,\n",
       "  <matplotlib.axis.XTick at 0x11ace1828>,\n",
       "  <matplotlib.axis.XTick at 0x11a958f98>,\n",
       "  <matplotlib.axis.XTick at 0x11a9b9ba8>,\n",
       "  <matplotlib.axis.XTick at 0x11a9cd6a0>,\n",
       "  <matplotlib.axis.XTick at 0x11a9d3198>,\n",
       "  <matplotlib.axis.XTick at 0x11a9d37f0>],\n",
       " <a list of 12 Text xticklabel objects>)"
      ]
     },
     "execution_count": 10,
     "metadata": {},
     "output_type": "execute_result"
    },
    {
     "data": {
      "image/png": "[encoded data removed]",
      "text/plain": [
       "<matplotlib.figure.Figure at 0x11dc9ca58>"
      ]
     },
     "metadata": {},
     "output_type": "display_data"
    }
   ],
   "source": [
    "generalBirthRatesByRelativeMonth.plot(label='General Population')\n",
    "playersBirthRatesByRelativeMonth.plot(label='Baseball Players')\n",
    "\n",
    "plt.legend()\n",
    "plt.ylabel('Proportion')\n",
    "plt.title('General population vs baseball players birth rates')\n",
    "plt.xticks(range(12), relativeMonthNames, rotation=45)\n"
   ]
  },
  {
   "cell_type": "markdown",
   "metadata": {},
   "source": [
    "### 3. Deviations between birth rates\n",
    "The deviations between birth rates is calculated subtracting the baseball players birth rate distribution from the general population birth rate distribution."
   ]
  },
  {
   "cell_type": "code",
   "execution_count": 11,
   "metadata": {
    "collapsed": false
   },
   "outputs": [
    {
     "data": {
      "text/plain": [
       "([<matplotlib.axis.XTick at 0x11ad02828>,\n",
       "  <matplotlib.axis.XTick at 0x11ad1f0b8>,\n",
       "  <matplotlib.axis.XTick at 0x11ad57668>,\n",
       "  <matplotlib.axis.XTick at 0x11ad96208>,\n",
       "  <matplotlib.axis.XTick at 0x11ad96cc0>,\n",
       "  <matplotlib.axis.XTick at 0x11ad9b7b8>,\n",
       "  <matplotlib.axis.XTick at 0x11ada02b0>,\n",
       "  <matplotlib.axis.XTick at 0x11ada0a90>,\n",
       "  <matplotlib.axis.XTick at 0x11a9516d8>,\n",
       "  <matplotlib.axis.XTick at 0x11ada7ac8>,\n",
       "  <matplotlib.axis.XTick at 0x11ad46da0>,\n",
       "  <matplotlib.axis.XTick at 0x11adbbe48>],\n",
       " <a list of 12 Text xticklabel objects>)"
      ]
     },
     "execution_count": 11,
     "metadata": {},
     "output_type": "execute_result"
    },
    {
     "data": {
      "image/png": "[encoded data removed]",
      "text/plain": [
       "<matplotlib.figure.Figure at 0x11a7794e0>"
      ]
     },
     "metadata": {},
     "output_type": "display_data"
    }
   ],
   "source": [
    "deviations = playersBirthRatesByRelativeMonth - generalBirthRatesByRelativeMonth\n",
    "deviations.plot(kind='bar')\n",
    "plt.ylabel('Frequency deviation')\n",
    "plt.title('Frequency deviation between baseball players birth rate and the general population birth rate')\n",
    "plt.xticks(range(12), relativeMonthNames, rotation=0)"
   ]
  },
  {
   "cell_type": "markdown",
   "metadata": {},
   "source": [
    "### 4. Correlation coefficient"
   ]
  },
  {
   "cell_type": "code",
   "execution_count": 12,
   "metadata": {
    "collapsed": false
   },
   "outputs": [
    {
     "name": "stdout",
     "output_type": "stream",
     "text": [
      "r = -0.9005334024855879\n"
     ]
    }
   ],
   "source": [
    "r = numpy.corrcoef(deviations, range(12))[0,1]\n",
    "print('r = {}'.format(r))"
   ]
  },
  {
   "cell_type": "markdown",
   "metadata": {},
   "source": [
    "## Month of birth vs player performance\n",
    "In order to correlate the month of birth with the player performance, the following steps were be executed:\n",
    "1. Calculate the [On-base percentage]('https://en.wikipedia.org/wiki/On-base_percentage') (OBP), that is a traditional batting performance measurement.\n",
    "2. Calculate the mean OBP per relative month\n",
    "3. Normalize the mean OBP per relative month\n",
    "4. Plot the results and observe if there is a correlation"
   ]
  },
  {
   "cell_type": "code",
   "execution_count": 13,
   "metadata": {
    "collapsed": false
   },
   "outputs": [],
   "source": [
    "#On Base Percentage = (H + BB + HBP)/ (AB + BB + HBP + SF)\n",
    "batting = batting.assign(OBP = (batting.H + batting.BB +batting.HBP)/(batting.AB + batting.BB + batting.HBP + batting.SF))\n",
    "\n",
    "meanOBPByMonth = batting.merge(master, on='playerID').groupby('relativeMonth').mean()['OBP']\n",
    "meanOBPFrequencyByMonth = normalizeValues(meanOBPByMonth)"
   ]
  },
  {
   "cell_type": "code",
   "execution_count": 14,
   "metadata": {
    "collapsed": false
   },
   "outputs": [
    {
     "data": {
      "text/plain": [
       "([<matplotlib.axis.XTick at 0x11addd2e8>,\n",
       "  <matplotlib.axis.XTick at 0x11ae07f98>,\n",
       "  <matplotlib.axis.XTick at 0x11af15470>,\n",
       "  <matplotlib.axis.XTick at 0x11af1cb38>,\n",
       "  <matplotlib.axis.XTick at 0x11af24630>,\n",
       "  <matplotlib.axis.XTick at 0x11af24e10>,\n",
       "  <matplotlib.axis.XTick at 0x11af28908>,\n",
       "  <matplotlib.axis.XTick at 0x11aded198>,\n",
       "  <matplotlib.axis.XTick at 0x11af49be0>,\n",
       "  <matplotlib.axis.XTick at 0x11af576d8>,\n",
       "  <matplotlib.axis.XTick at 0x11af1c9b0>,\n",
       "  <matplotlib.axis.XTick at 0x11af5e550>],\n",
       " <a list of 12 Text xticklabel objects>)"
      ]
     },
     "execution_count": 14,
     "metadata": {},
     "output_type": "execute_result"
    },
    {
     "data": {
      "image/png": "[encoded data removed]",
      "text/plain": [
       "<matplotlib.figure.Figure at 0x11732c3c8>"
      ]
     },
     "metadata": {},
     "output_type": "display_data"
    }
   ],
   "source": [
    "meanOBPFrequencyByMonth.plot(label='mean OBP')\n",
    "playersBirthRatesByRelativeMonth.plot(label='Player Month of Birth')\n",
    "\n",
    "plt.legend()\n",
    "plt.xlabel('Month')\n",
    "plt.ylabel('Proportion')\n",
    "plt.title('Frequency distribution of mean OBP vs players months of birth')\n",
    "plt.xticks(range(12), relativeMonthNames, rotation=45)"
   ]
  },
  {
   "cell_type": "markdown",
   "metadata": {},
   "source": [
    "As could be observed in the chart above, the mean OBP is uniformly distributed over the months of the year."
   ]
  },
  {
   "cell_type": "markdown",
   "metadata": {},
   "source": [
    "## Conclusions\n",
    "The results of this analysis provide strong support that there is a significant tendency for professional baseball players to have been born early in the baseball year (starting in August and ending in July). In order to measure the impact of the Relative Age Effect, the correlation coefficient between the relative month of birth and the deviation of players birth rates from the general population birth rates was calculated.\n",
    "\n",
    "The correlation coefficient obtained was -0.9, meaning a strong negative linear relationship, i.e, as far the month of birth is from August, less chance to participate in the professional league the player has. We can conclude that it appears that a significant number of budding baseball players are prevented from reaching their potential because of an accident of birth.\n",
    "\n",
    "On the other hand, there is no correlation between the month of birth and the player performance. The unfair advantage of those who have been born earlier in the baseball year didn't remain relevant after they became a pro."
   ]
  },
  {
   "cell_type": "markdown",
   "metadata": {},
   "source": [
    "## References\n",
    "http://www.nber.org/data/vital-statistics-natality-data.html\n",
    "\n",
    "http://www.slate.com/articles/sports/sports_nut/2008/04/the_boys_of_late_summer.html\n",
    "\n",
    "https://en.wikipedia.org/wiki/Relative_age_effect\n",
    "\n",
    "http://gladwell.com/outliers/\n",
    "\n",
    "https://en.wikipedia.org/wiki/On-base_percentage\n",
    "\n",
    "http://www.seanlahman.com/baseball-archive/statistics/\n",
    "\n",
    "Thompson A, Barnsley R, Stebelsky G. ‘Born to play ball’:\n",
    "the relative age effect and major league baseball. Sociol\n",
    "Sport J 1991; 8: 146-51\n",
    "\n",
    "\n"
   ]
  },
  {
   "cell_type": "code",
   "execution_count": null,
   "metadata": {
    "collapsed": true
   },
   "outputs": [],
   "source": []
  }
 ],
 "metadata": {
  "kernelspec": {
   "display_name": "Python 3",
   "language": "python",
   "name": "python3"
  },
  "language_info": {
   "codemirror_mode": {
    "name": "ipython",
    "version": 3
   },
   "file_extension": ".py",
   "mimetype": "text/x-python",
   "name": "python",
   "nbconvert_exporter": "python",
   "pygments_lexer": "ipython3",
   "version": "3.6.0"
  }
 },
 "nbformat": 4,
 "nbformat_minor": 2
}
